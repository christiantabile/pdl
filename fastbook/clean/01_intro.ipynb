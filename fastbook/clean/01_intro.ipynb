{
 "cells": [
  {
   "cell_type": "code",
   "execution_count": null,
   "metadata": {},
   "outputs": [],
   "source": [
    "#hide\n",
    "!pip install -Uqq fastbook\n",
    "import fastbook\n",
    "fastbook.setup_book()"
   ]
  },
  {
   "cell_type": "code",
   "execution_count": null,
   "metadata": {},
   "outputs": [],
   "source": [
    "#hide\n",
    "from fastbook import *"
   ]
  },
  {
   "cell_type": "markdown",
   "metadata": {},
   "source": [
    "# Your Deep Learning Journey"
   ]
  },
  {
   "cell_type": "markdown",
   "metadata": {},
   "source": [
    "## Deep Learning Is for Everyone"
   ]
  },
  {
   "cell_type": "markdown",
   "metadata": {},
   "source": [
    "## Neural Networks: A Brief History"
   ]
  },
  {
   "cell_type": "markdown",
   "metadata": {},
   "source": [
    "## Who We Are"
   ]
  },
  {
   "cell_type": "markdown",
   "metadata": {},
   "source": [
    "## How to Learn Deep Learning"
   ]
  },
  {
   "cell_type": "markdown",
   "metadata": {},
   "source": [
    "### Your Projects and Your Mindset"
   ]
  },
  {
   "cell_type": "markdown",
   "metadata": {},
   "source": [
    "## The Software: PyTorch, fastai, and Jupyter"
   ]
  },
  {
   "cell_type": "markdown",
   "metadata": {},
   "source": [
    "## Your First Model"
   ]
  },
  {
   "cell_type": "markdown",
   "metadata": {},
   "source": [
    "### Getting a GPU Deep Learning Server"
   ]
  },
  {
   "cell_type": "markdown",
   "metadata": {},
   "source": [
    "### Running Your First Notebook"
   ]
  },
  {
   "cell_type": "code",
   "execution_count": null,
   "metadata": {},
   "outputs": [],
   "source": [
    "# CLICK ME\n",
    "from fastai.vision.all import *\n",
    "path = untar_data(URLs.PETS)/'images'\n",
    "\n",
    "def is_cat(x): return x[0].isupper()\n",
    "dls = ImageDataLoaders.from_name_func(\n",
    "    path, get_image_files(path), valid_pct=0.2, seed=42,\n",
    "    label_func=is_cat, item_tfms=Resize(224))\n",
    "\n",
    "learn = cnn_learner(dls, resnet34, metrics=error_rate)\n",
    "learn.fine_tune(1)"
   ]
  },
  {
   "cell_type": "markdown",
   "metadata": {},
   "source": [
    "### Sidebar: This Book Was Written in Jupyter Notebooks"
   ]
  },
  {
   "cell_type": "code",
   "execution_count": null,
   "metadata": {},
   "outputs": [],
   "source": [
    "1+1"
   ]
  },
  {
   "cell_type": "code",
   "execution_count": null,
   "metadata": {},
   "outputs": [],
   "source": [
    "img = PILImage.create(image_cat())\n",
    "img.to_thumb(192)"
   ]
  },
  {
   "cell_type": "markdown",
   "metadata": {},
   "source": [
    "### End sidebar"
   ]
  },
  {
   "cell_type": "code",
   "execution_count": null,
   "metadata": {},
   "outputs": [],
   "source": [
    "uploader = widgets.FileUpload()\n",
    "uploader"
   ]
  },
  {
   "cell_type": "code",
   "execution_count": null,
   "metadata": {},
   "outputs": [],
   "source": [
    "#hide\n",
    "# For the book, we can't actually click an upload button, so we fake it\n",
    "# uploader = SimpleNamespace(data = ['images/chapter1_cat_example.jpg'])"
   ]
  },
  {
   "cell_type": "code",
   "execution_count": null,
   "metadata": {},
   "outputs": [],
   "source": [
    "img = PILImage.create(uploader.data[0])\n",
    "is_cat,_,probs = learn.predict(img)\n",
    "print(f\"Is this a cat?: {is_cat}.\")\n",
    "print(f\"Probability it's a cat: {probs[1].item():.6f}\")"
   ]
  },
  {
   "cell_type": "markdown",
   "metadata": {},
   "source": [
    "### What Is Machine Learning?"
   ]
  },
  {
   "cell_type": "code",
   "execution_count": null,
   "metadata": {},
   "outputs": [],
   "source": [
    "gv('''program[shape=box3d width=1 height=0.7]\n",
    "inputs->program->results''')"
   ]
  },
  {
   "cell_type": "code",
   "execution_count": null,
   "metadata": {},
   "outputs": [],
   "source": [
    "gv('''model[shape=box3d width=1 height=0.7]\n",
    "inputs->model->results; weights->model''')"
   ]
  },
  {
   "cell_type": "code",
   "execution_count": null,
   "metadata": {},
   "outputs": [],
   "source": [
    "gv('''ordering=in\n",
    "model[shape=box3d width=1 height=0.7]\n",
    "inputs->model->results; weights->model; results->performance\n",
    "performance->weights[constraint=false label=update]''')"
   ]
  },
  {
   "cell_type": "code",
   "execution_count": null,
   "metadata": {},
   "outputs": [],
   "source": [
    "gv('''model[shape=box3d width=1 height=0.7]\n",
    "inputs->model->results''')"
   ]
  },
  {
   "cell_type": "markdown",
   "metadata": {},
   "source": [
    "### What Is a Neural Network?"
   ]
  },
  {
   "cell_type": "markdown",
   "metadata": {},
   "source": [
    "### A Bit of Deep Learning Jargon"
   ]
  },
  {
   "cell_type": "code",
   "execution_count": null,
   "metadata": {},
   "outputs": [],
   "source": [
    "gv('''ordering=in\n",
    "model[shape=box3d width=1 height=0.7 label=architecture]\n",
    "inputs->model->predictions; parameters->model; labels->loss; predictions->loss\n",
    "loss->parameters[constraint=false label=update]''')"
   ]
  },
  {
   "cell_type": "markdown",
   "metadata": {},
   "source": [
    "### Limitations Inherent To Machine Learning\n",
    "\n",
    "From this picture we can now see some fundamental things about training a deep learning model:\n",
    "\n",
    "- A model cannot be created without data.\n",
    "- A model can only learn to operate on the patterns seen in the input data used to train it.\n",
    "- This learning approach only creates *predictions*, not recommended *actions*.\n",
    "- It's not enough to just have examples of input data; we need *labels* for that data too (e.g., pictures of dogs and cats aren't enough to train a model; we need a label for each one, saying which ones are dogs, and which are cats).\n",
    "\n",
    "Generally speaking, we've seen that most organizations that say they don't have enough data, actually mean they don't have enough *labeled* data. If any organization is interested in doing something in practice with a model, then presumably they have some inputs they plan to run their model against. And presumably they've been doing that some other way for a while (e.g., manually, or with some heuristic program), so they have data from those processes! For instance, a radiology practice will almost certainly have an archive of medical scans (since they need to be able to check how their patients are progressing over time), but those scans may not have structured labels containing a list of diagnoses or interventions (since radiologists generally create free-text natural language reports, not structured data). We'll be discussing labeling approaches a lot in this book, because it's such an important issue in practice.\n",
    "\n",
    "Since these kinds of machine learning models can only make *predictions* (i.e., attempt to replicate labels), this can result in a significant gap between organizational goals and model capabilities. For instance, in this book you'll learn how to create a *recommendation system* that can predict what products a user might purchase. This is often used in e-commerce, such as to customize products shown on a home page by showing the highest-ranked items. But such a model is generally created by looking at a user and their buying history (*inputs*) and what they went on to buy or look at (*labels*), which means that the model is likely to tell you about products the user already has or already knows about, rather than new products that they are most likely to be interested in hearing about. That's very different to what, say, an expert at your local bookseller might do, where they ask questions to figure out your taste, and then tell you about authors or series that you've never heard of before."
   ]
  },
  {
   "cell_type": "markdown",
   "metadata": {},
   "source": [
    "### How Our Image Recognizer Works"
   ]
  },
  {
   "cell_type": "markdown",
   "metadata": {},
   "source": [
    "### What Our Image Recognizer Learned"
   ]
  },
  {
   "cell_type": "markdown",
   "metadata": {},
   "source": [
    "### Image Recognizers Can Tackle Non-Image Tasks"
   ]
  },
  {
   "cell_type": "markdown",
   "metadata": {},
   "source": [
    "### Jargon Recap"
   ]
  },
  {
   "cell_type": "markdown",
   "metadata": {},
   "source": [
    "## Deep Learning Is Not Just for Image Classification"
   ]
  },
  {
   "cell_type": "code",
   "execution_count": null,
   "metadata": {},
   "outputs": [],
   "source": [
    "path = untar_data(URLs.CAMVID_TINY)\n",
    "dls = SegmentationDataLoaders.from_label_func(\n",
    "    path, bs=8, fnames = get_image_files(path/\"images\"),\n",
    "    label_func = lambda o: path/'labels'/f'{o.stem}_P{o.suffix}',\n",
    "    codes = np.loadtxt(path/'codes.txt', dtype=str)\n",
    ")\n",
    "\n",
    "learn = unet_learner(dls, resnet34)\n",
    "learn.fine_tune(8)"
   ]
  },
  {
   "cell_type": "code",
   "execution_count": null,
   "metadata": {},
   "outputs": [],
   "source": [
    "learn.show_results(max_n=6, figsize=(7,8))"
   ]
  },
  {
   "cell_type": "code",
   "execution_count": null,
   "metadata": {},
   "outputs": [],
   "source": [
    "from fastai.text.all import *\n",
    "\n",
    "dls = TextDataLoaders.from_folder(untar_data(URLs.IMDB), valid='test')\n",
    "learn = text_classifier_learner(dls, AWD_LSTM, drop_mult=0.5, metrics=accuracy)\n",
    "learn.fine_tune(4, 1e-2)"
   ]
  },
  {
   "cell_type": "markdown",
   "metadata": {},
   "source": [
    "If you hit a \"CUDA out of memory error\" after running this cell, click on the menu Kernel, then restart. Instead of executing the cell above, copy and paste the following code in it:\n",
    "\n",
    "```\n",
    "from fastai.text.all import *\n",
    "\n",
    "dls = TextDataLoaders.from_folder(untar_data(URLs.IMDB), valid='test', bs=32)\n",
    "learn = text_classifier_learner(dls, AWD_LSTM, drop_mult=0.5, metrics=accuracy)\n",
    "learn.fine_tune(4, 1e-2)\n",
    "```\n",
    "\n",
    "This reduces the batch size to 32 (we will explain this later). If you keep hitting the same error, change 32 to 16."
   ]
  },
  {
   "cell_type": "code",
   "execution_count": null,
   "metadata": {},
   "outputs": [],
   "source": [
    "learn.predict(\"I really liked that movie!\")"
   ]
  },
  {
   "cell_type": "markdown",
   "metadata": {},
   "source": [
    "### Sidebar: The Order Matters"
   ]
  },
  {
   "cell_type": "markdown",
   "metadata": {},
   "source": [
    "### End sidebar"
   ]
  },
  {
   "cell_type": "code",
   "execution_count": null,
   "metadata": {},
   "outputs": [],
   "source": [
    "from fastai.tabular.all import *\n",
    "path = untar_data(URLs.ADULT_SAMPLE)\n",
    "\n",
    "dls = TabularDataLoaders.from_csv(path/'adult.csv', path=path, y_names=\"salary\",\n",
    "    cat_names = ['workclass', 'education', 'marital-status', 'occupation',\n",
    "                 'relationship', 'race'],\n",
    "    cont_names = ['age', 'fnlwgt', 'education-num'],\n",
    "    procs = [Categorify, FillMissing, Normalize])\n",
    "\n",
    "learn = tabular_learner(dls, metrics=accuracy)"
   ]
  },
  {
   "cell_type": "code",
   "execution_count": null,
   "metadata": {},
   "outputs": [],
   "source": [
    "learn.fit_one_cycle(3)"
   ]
  },
  {
   "cell_type": "code",
   "execution_count": null,
   "metadata": {},
   "outputs": [],
   "source": [
    "from fastai.collab import *\n",
    "path = untar_data(URLs.ML_SAMPLE)\n",
    "dls = CollabDataLoaders.from_csv(path/'ratings.csv')\n",
    "learn = collab_learner(dls, y_range=(0.5,5.5))\n",
    "learn.fine_tune(10)"
   ]
  },
  {
   "cell_type": "code",
   "execution_count": null,
   "metadata": {},
   "outputs": [],
   "source": [
    "learn.show_results()"
   ]
  },
  {
   "cell_type": "markdown",
   "metadata": {},
   "source": [
    "### Sidebar: Datasets: Food for Models"
   ]
  },
  {
   "cell_type": "markdown",
   "metadata": {},
   "source": [
    "### End sidebar"
   ]
  },
  {
   "cell_type": "markdown",
   "metadata": {},
   "source": [
    "## Validation Sets and Test Sets"
   ]
  },
  {
   "cell_type": "markdown",
   "metadata": {},
   "source": [
    "### Use Judgment in Defining Test Sets"
   ]
  },
  {
   "cell_type": "markdown",
   "metadata": {},
   "source": [
    "## A _Choose Your Own Adventure_ moment"
   ]
  },
  {
   "cell_type": "markdown",
   "metadata": {},
   "source": [
    "## Questionnaire"
   ]
  },
  {
   "cell_type": "markdown",
   "metadata": {},
   "source": [
    "It can be hard to know in pages and pages of prose what the key things are that you really need to focus on and remember. So, we've prepared a list of questions and suggested steps to complete at the end of each chapter. All the answers are in the text of the chapter, so if you're not sure about anything here, reread that part of the text and make sure you understand it. Answers to all these questions are also available on the [book's website](https://book.fast.ai). You can also visit [the forums](https://forums.fast.ai) if you get stuck to get help from other folks studying this material."
   ]
  },
  {
   "cell_type": "markdown",
   "metadata": {},
   "source": [
    "1. Do you need these for deep learning?\n",
    ">| Needed? | T/F |\n",
    "| :------:|:--------: |\n",
    "| Header | Title |\n",
    "| Paragraph | Text |\n",
    "1. Name five areas where deep learning is now the best in the world.\n",
    "><ol>\n",
    "    <li>Natural Language Processing (NLP)</li>\n",
    "    <li>Computer Vision</li>\n",
    "    <li>Medicine</li>\n",
    "    <li>Biology</li>\n",
    "    <li>Image Generation</li></ol>\n",
    "1. What was the name of the first device that was based on the principle of the artificial neuron?\n",
    ">Mark I Perceptron by Frank Rosenslatt\n",
    "1. Based on the book of the same name, what are the requirements for parallel distributed processing (PDP)?\n",
    "><ul>\n",
    "    <li>contains a set of processing units</li>\n",
    "    <li>a state of activation for each unit</li>\n",
    "    <li>an output function for each unit</li>\n",
    "    <li>a pattern of connectivity among units</li>\n",
    "    <li>a propagation rule to spread patterns of activites through the network of connected units</li>\n",
    "    <li>an activation rule to combine inputs and current state of the unit to produce an output</li>\n",
    "    <li>a learning rule for modifying connections based on experience</li>\n",
    "    <li>an environment that provides the system with experience</li></ul>\n",
    "1. What were the two theoretical misunderstandings that held back the field of neural networks?\n",
    "> Early enthusiasts gave up on neural networks after the 1969 book, <em>Perceptrons</em>, stated that a single layer of the device was unable to learn simple, yet critical mathematical functions. Although this was possible if more layers were added (which they did state) it went unrecognized until the 80's when the addition of more layers was being explored. Although more layers did improve performance, the networks became large, slow, and costly and again were not recognized until technology was able to support such system.\n",
    "1. What is a GPU?\n",
    ">A Graphics Processing Unit (GPU) or better known as a 'Graphics Card', is a circuitry device in a computer that is used to handle thousands of instructions/tasks (usually 3D rendered objects for modeling/gaming). A network of GPU's are usually used to train neural networks, rather than just a CPU alone.\n",
    "1. Open a notebook and execute a cell containing: `1+1`. What happens?\n",
    ">When the code '1+1' is executed in a Python cell, an output cell displays '2'\n",
    "1. Follow through each cell of the stripped version of the notebook for this chapter. Before executing each cell, guess what will happen.\n",
    ">To be done by reader.\n",
    "1. Complete the Jupyter Notebook online appendix.\n",
    ">To be done by reader.\n",
    "1. Why is it hard to use a traditional computer program to recognize images in a photo?\n",
    ">Ask yourself how humans are able to so quickly recognize, differentiate, and distinguish objects in images? Is it possible for you to explicity state in steps what happens in the brain? Most likely not because for us humans this all occurs subconciously. Attempting to code every step in minute detail would be a challenge for programmers, which is why alternative learning methods are used.\n",
    "1. What did Samuel mean by \"weight assignment\"?\n",
    ">Samuel refers to the model's performance. 'Weight' values define how a model behaves/operates.\n",
    "1. What term do we normally use in deep learning for what Samuel called \"weights\"?\n",
    ">In deep learning the term <em>parameters</em> is used. <em>Parameters</em> in deep learning contain 'weights' and updated 'solution' from the loss function (which depends on the 'labels').\n",
    "1. Draw a picture that summarizes Samuel's view of a machine learning model.\n",
    "> `gv`\n",
    "1. Why is it hard to understand why a deep learning model makes a particular prediction?\n",
    ">The complexity of a deep learning model makes it very difficult to understand why a neural network makes a given prediction because it's a network of many different neurons of many layers, all interconnected. This is why we are so interested in the 'weights', since that gives us a slight understanding of how the model behaves.\n",
    "1. What is the name of the theorem that shows that a neural network can solve any mathematical problem to any level of accuracy?\n",
    ">The universal approximation theorem.\n",
    "1. What do you need in order to train a model?\n",
    ">An architechture, LABELED data, a loss function, and a means to update the parameters of the architechture.\n",
    "1. How could a feedback loop impact the rollout of a predictive policing model?\n",
    ">It may introduced biases (positive feedback loop) that humans may inncorectly interpret.\n",
    "1. Do we always have to use 224×224-pixel images with the cat recognition model?\n",
    ">No, you don't. But 224x224-pixel images are used simply for historical reasons.\n",
    "1. What is the difference between classification and regression?\n",
    ">Classification: a model that attemps to predict a <em>discrete</em> possibility, class, or category (think of 'labels').\n",
    ">Regression: a model that aatemps to predict one or more numeric quantities (temperature, location coordinates).\n",
    "1. What is a validation set? What is a test set? Why do we need them?\n",
    ">A 'validation set' is 20% of the dataset not used in training the mode, but instead to measure accuracy of the model on unseen data after it has been fit.\n",
    "1. What will fastai do if you don't provide a validation set?\n",
    ">fastai will automatically reserve 20% of the dataset and provide a 'validation set' (valid_pct = 0.2 by default).\n",
    "1. Can we always use a random sample for a validation set? Why or why not?\n",
    ">It depends on what the model is being used for, if the validation set is not representative of new data it would see, a random sample is not recommended.\n",
    "1. What is overfitting? Provide an example.\n",
    ">Overfitting refers to when the model fits too closely to a limited data set (aka, it 'memorises' the dataset) and performs poorly on unseed data.\n",
    "1. What is a metric? How does it differ from \"loss\"?\n",
    ">Metric: a function that measures the quality of the resulting prediction using the 'validation set'. Returns human interpretable statistics that help to understand how the model is performing.\n",
    ">Loss: an optimization algorithm used in the architechture (specifically the SGD) to calculate performance to update the model parameters accordingly.\n",
    "1. How can pretrained models help?\n",
    ">Pretrained models validate that your model is already capable (is has already been trained on some dataset) and allows for more accurate and faster testing, with less data at a cost of less time and money.\n",
    "1. What is the \"head\" of a model?\n",
    ">Newest layer added to the model.\n",
    "1. What kinds of features do the early layers of a CNN find? How about the later layers?\n",
    ">Layer 1: detects edges (vertical, horizontal, diagonals) and color gradients<br>\n",
    "Layer 2: can distinguish shapes, patterns <br>\n",
    "Layer 3: recognize objects<br>\n",
    "Layer 4: facial recognition\n",
    "1. Are image models only useful for photos?\n",
    ">No, they are also useful in medical data, sketches or data represented as image (spectrograms, time series data)\n",
    "1. What is an \"architecture\"?\n",
    ">The model being trained or 'fit'.\n",
    "1. What is segmentation?\n",
    ">A pixelwise classification problem. In deep learning, a model is created that can label the content of every individual pixel in an image/video. Groupings of pixels corresponds to objects in view (think of an autonomous car and how it is able to distinguish the road, humans, and any possible obstructions).\n",
    "1. What is `y_range` used for? When do we need it?\n",
    ">The 'y_range' parameter is used in fastai to return data within a given range. It is secifically needed when a prediction is needed for a <em>continuous</em> number, rather than a category or label (otherwise 'x_range' would be called).\n",
    "1. What are \"hyperparameters\"?\n",
    ">Parameters on the parameters used to train the model, for example, how long to train the model or the learning rate of the model (how fast and often model parameters are allowed to change).\n",
    "1. What's the best way to avoid failures when using AI in an organization?\n",
    "><ul>\n",
    "    <li>Reserve enough data to define 'validation', 'training', and 'testing' sets</li>\n",
    "    <li>Set a baseline that future iterations of the model aim to beat</li></ul>"
   ]
  },
  {
   "cell_type": "markdown",
   "metadata": {},
   "source": [
    "### Further Research"
   ]
  },
  {
   "cell_type": "markdown",
   "metadata": {},
   "source": [
    "Each chapter also has a \"Further Research\" section that poses questions that aren't fully answered in the text, or gives more advanced assignments. Answers to these questions aren't on the book's website; you'll need to do your own research!"
   ]
  },
  {
   "cell_type": "markdown",
   "metadata": {},
   "source": [
    "1. Why is a GPU useful for deep learning? How is a CPU different, and why is it less effective for deep learning?\n",
    "1. Try to think of three areas where feedback loops might impact the use of machine learning. See if you can find documented examples of that happening in practice."
   ]
  },
  {
   "cell_type": "code",
   "execution_count": null,
   "metadata": {},
   "outputs": [],
   "source": []
  }
 ],
 "metadata": {
  "jupytext": {
   "split_at_heading": true
  },
  "kernelspec": {
   "display_name": "Python 3",
   "language": "python",
   "name": "python3"
  },
  "language_info": {
   "codemirror_mode": {
    "name": "ipython",
    "version": 3
   },
   "file_extension": ".py",
   "mimetype": "text/x-python",
   "name": "python",
   "nbconvert_exporter": "python",
   "pygments_lexer": "ipython3",
   "version": "3.8.3"
  }
 },
 "nbformat": 4,
 "nbformat_minor": 4
}
